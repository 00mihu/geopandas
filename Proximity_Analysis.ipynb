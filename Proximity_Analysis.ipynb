{
  "nbformat": 4,
  "nbformat_minor": 0,
  "metadata": {
    "colab": {
      "provenance": [],
      "authorship_tag": "ABX9TyPtFTW71Olks8e6FctVVgXX"
    },
    "kernelspec": {
      "name": "python3",
      "display_name": "Python 3"
    },
    "language_info": {
      "name": "python"
    }
  },
  "cells": [
    {
      "cell_type": "code",
      "execution_count": 1,
      "metadata": {
        "colab": {
          "base_uri": "https://localhost:8080/",
          "height": 383
        },
        "collapsed": true,
        "id": "5wH30L5PcB3i",
        "outputId": "ac1af3e6-1010-4f77-f989-781dedac82d5"
      },
      "outputs": [
        {
          "output_type": "error",
          "ename": "ModuleNotFoundError",
          "evalue": "No module named 'learntools'",
          "traceback": [
            "\u001b[0;31m---------------------------------------------------------------------------\u001b[0m",
            "\u001b[0;31mModuleNotFoundError\u001b[0m                       Traceback (most recent call last)",
            "\u001b[0;32m<ipython-input-1-c2b558313388>\u001b[0m in \u001b[0;36m<cell line: 10>\u001b[0;34m()\u001b[0m\n\u001b[1;32m      8\u001b[0m \u001b[0;32mfrom\u001b[0m \u001b[0mfolium\u001b[0m\u001b[0;34m.\u001b[0m\u001b[0mplugins\u001b[0m \u001b[0;32mimport\u001b[0m \u001b[0mHeatMap\u001b[0m\u001b[0;34m,\u001b[0m \u001b[0mMarkerCluster\u001b[0m\u001b[0;34m\u001b[0m\u001b[0;34m\u001b[0m\u001b[0m\n\u001b[1;32m      9\u001b[0m \u001b[0;34m\u001b[0m\u001b[0m\n\u001b[0;32m---> 10\u001b[0;31m \u001b[0;32mfrom\u001b[0m \u001b[0mlearntools\u001b[0m\u001b[0;34m.\u001b[0m\u001b[0mcore\u001b[0m \u001b[0;32mimport\u001b[0m \u001b[0mbinder\u001b[0m\u001b[0;34m\u001b[0m\u001b[0;34m\u001b[0m\u001b[0m\n\u001b[0m\u001b[1;32m     11\u001b[0m \u001b[0mbinder\u001b[0m\u001b[0;34m.\u001b[0m\u001b[0mbind\u001b[0m\u001b[0;34m(\u001b[0m\u001b[0mglobals\u001b[0m\u001b[0;34m(\u001b[0m\u001b[0;34m)\u001b[0m\u001b[0;34m)\u001b[0m\u001b[0;34m\u001b[0m\u001b[0;34m\u001b[0m\u001b[0m\n\u001b[1;32m     12\u001b[0m \u001b[0;32mfrom\u001b[0m \u001b[0mlearntools\u001b[0m\u001b[0;34m.\u001b[0m\u001b[0mgeospatial\u001b[0m\u001b[0;34m.\u001b[0m\u001b[0mex5\u001b[0m \u001b[0;32mimport\u001b[0m \u001b[0;34m*\u001b[0m\u001b[0;34m\u001b[0m\u001b[0;34m\u001b[0m\u001b[0m\n",
            "\u001b[0;31mModuleNotFoundError\u001b[0m: No module named 'learntools'",
            "",
            "\u001b[0;31m---------------------------------------------------------------------------\u001b[0;32m\nNOTE: If your import is failing due to a missing package, you can\nmanually install dependencies using either !pip or !apt.\n\nTo view examples of installing some common dependencies, click the\n\"Open Examples\" button below.\n\u001b[0;31m---------------------------------------------------------------------------\u001b[0m\n"
          ],
          "errorDetails": {
            "actions": [
              {
                "action": "open_url",
                "actionText": "Open Examples",
                "url": "/notebooks/snippets/importing_libraries.ipynb"
              }
            ]
          }
        }
      ],
      "source": [
        "import math\n",
        "import geopandas as gpd\n",
        "import pandas as pd\n",
        "from shapely.geometry import MultiPolygon\n",
        "\n",
        "import folium\n",
        "from folium import Choropleth, Marker\n",
        "from folium.plugins import HeatMap, MarkerCluster\n",
        "\n",
        "from learntools.core import binder\n",
        "binder.bind(globals())\n",
        "from learntools.geospatial.ex5 import *"
      ]
    },
    {
      "cell_type": "code",
      "source": [
        "def embed_map(m, file_name):\n",
        "    from IPython.display import IFrame\n",
        "    m.save(file_name)\n",
        "    return IFrame(file_name, width='100%', height='500px')"
      ],
      "metadata": {
        "id": "EEXEfG6efd1S"
      },
      "execution_count": null,
      "outputs": []
    },
    {
      "cell_type": "code",
      "source": [
        "collisions = gpd.read_file(\"../input/geospatial-learn-course-data/NYPD_Motor_Vehicle_Collisions/NYPD_Motor_Vehicle_Collisions/NYPD_Motor_Vehicle_Collisions.shp\")\n",
        "collisions.head()\n",
        "collisions.count()"
      ],
      "metadata": {
        "id": "lsihfpOife7U"
      },
      "execution_count": null,
      "outputs": []
    },
    {
      "cell_type": "code",
      "source": [
        "m_1 = folium.Map(location=[40.7, -74], zoom_start=11)\n",
        "\n",
        "# Your code here: Visualize the collision data\n",
        "\n",
        "#HeatMap(data=collisions[['LATITUDE', 'LONGITUDE']], radius=15).add_to(m_1)\n",
        "#for idx, row in collisions.iterrows():\n",
        "#    Marker([row['LATITUDE'], row['LONGITUDE']]).add_to(m_1)\n",
        "\n",
        "# Plot each polygon on the map\n",
        "HeatMap(data=collisions[['LATITUDE', 'LONGITUDE']], radius=9).add_to(m_1)\n",
        "\n",
        "#>>>GeoJson(two_mile_buffer.to_crs(epsg=4326)).add_to(m_1)\n",
        "\n",
        "# Show the map\n",
        "m_1\n",
        "____\n",
        "\n",
        "# Uncomment to see a hint\n",
        "#q_1.hint()\n",
        "\n",
        "# Show the map\n",
        "embed_map(m_1, \"q_1.html\")"
      ],
      "metadata": {
        "id": "0z9Jo-Q_fzfE"
      },
      "execution_count": null,
      "outputs": []
    },
    {
      "cell_type": "markdown",
      "source": [
        "2"
      ],
      "metadata": {
        "id": "IGqckUDwg8CO"
      }
    },
    {
      "cell_type": "code",
      "source": [
        "hospitals = gpd.read_file(\"../input/geospatial-learn-course-data/nyu_2451_34494/nyu_2451_34494/nyu_2451_34494.shp\")\n",
        "hospitals.head()"
      ],
      "metadata": {
        "id": "z5HtZzIRf4oT"
      },
      "execution_count": null,
      "outputs": []
    },
    {
      "cell_type": "code",
      "source": [
        "m_2 = folium.Map(location=[40.7, -74], zoom_start=11)\n",
        "\n",
        "# Your code here: Visualize the hospital locations\n",
        "#HeatMap(data=hospitals[['latitude', 'longitude']], radius=9).add_to(m_2)\n",
        "\n",
        "\n",
        "#folium.Marker(location=[40.7, -74]).add_to(m_2)\n",
        "\n",
        "#folium.Marker([53.210903, 6.598276], popup=\"My marker\").add_to(m)\n",
        "\n",
        "#Marker([row['LATITUDE'], row['LONGITUDE']]).add_to(m)\n",
        "\n",
        "#..........sol\n",
        "for idx, row in hospitals.iterrows():\n",
        "    Marker([row['latitude'], row['longitude']], popup=row['name']).add_to(m_2)\n",
        "\n",
        "____\n",
        "\n",
        "# Uncomment to see a hint\n",
        "q_2.hint()\n",
        "\n",
        "# Show the map\n",
        "embed_map(m_2, \"q_2.html\")"
      ],
      "metadata": {
        "id": "j_LfwydZhFJG"
      },
      "execution_count": null,
      "outputs": []
    },
    {
      "cell_type": "markdown",
      "source": [],
      "metadata": {
        "id": "pFkSJDt_gvDd"
      }
    },
    {
      "cell_type": "code",
      "source": [
        "print(collisions.crs)\n",
        "print(hospitals.crs)"
      ],
      "metadata": {
        "id": "DH-D1AUzgHGL"
      },
      "execution_count": null,
      "outputs": []
    },
    {
      "cell_type": "code",
      "source": [
        "hospitals_area = hospitals.geometry.buffer(10000)\n",
        "print(\"-\")\n",
        "union = hospitals_area.geometry.unary_union\n",
        "print(\"-\")\n",
        "outside_range = collisions.loc[~collisions[\"geometry\"].apply(lambda x: union.contains(x))]\n",
        "print(\"-\")\n",
        "# Check your answer\n",
        "q_3.check()\n",
        "outside_range.head()"
      ],
      "metadata": {
        "id": "oUXXipMve3EI"
      },
      "execution_count": null,
      "outputs": []
    },
    {
      "cell_type": "code",
      "source": [
        "percentage = round(100*len(outside_range)/len(collisions), 2)\n",
        "print(\"Percentage of collisions more than 10 km away from the closest hospital: {}%\".format(percentage))"
      ],
      "metadata": {
        "id": "VMVhhf8YhRTi"
      },
      "execution_count": null,
      "outputs": []
    },
    {
      "cell_type": "markdown",
      "source": [
        "4"
      ],
      "metadata": {
        "id": "K0EPRW4bgWxT"
      }
    },
    {
      "cell_type": "code",
      "source": [
        "def best_hospital(collision_location):\n",
        "    # Your code here\n",
        "    idx_min = hospitals.geometry.distance(collision_location).idxmin()\n",
        "    my_hospital = hospitals.iloc[idx_min]\n",
        "    name = my_hospital[\"name\"]\n",
        "\n",
        "    # Select one release incident in particular\n",
        "        #recent_release = releases.iloc[360]\n",
        "\n",
        "# Measure distance from release to each station\n",
        "#hospitals = collisions.geometry.distance(name.geometry)\n",
        "#hospitals\n",
        "\n",
        "    return name\n",
        "\n",
        "#def best_hospital(collision_location):\n",
        "#    idx_min = hospitals.geometry.distance(collision_location).idxmin()\n",
        "#    my_hospital = hospitals.iloc[idx_min]\n",
        "#    name = my_hospital[\"name\"]\n",
        "#    return name\n",
        "\n",
        "# Test your function: this should suggest CALVARY HOSPITAL INC\n",
        "print(best_hospital(outside_range.geometry.iloc[0]))\n",
        "\n",
        "# Check your answer\n",
        "q_4.check()"
      ],
      "metadata": {
        "id": "mrflDOAffo1U"
      },
      "execution_count": null,
      "outputs": []
    },
    {
      "cell_type": "code",
      "source": [
        "#def under_highest_demand\n",
        "#    idx_min = hospitals\n",
        "#    h_d = hospitals\n",
        "#    highest_demand = h_d[\"name\"]\n",
        "\n",
        "highest_demand = outside_range.geometry.apply(best_hospital).value_counts().idxmax()"
      ],
      "metadata": {
        "id": "ZQ67re2wfpxw"
      },
      "execution_count": null,
      "outputs": []
    },
    {
      "cell_type": "code",
      "source": [
        "folium.Map(location=[40.7, -74], zoom_start=11)"
      ],
      "metadata": {
        "id": "4_YaBBc8hgSD"
      },
      "execution_count": null,
      "outputs": []
    },
    {
      "cell_type": "markdown",
      "source": [
        "6"
      ],
      "metadata": {
        "id": "8lxQNGufhldK"
      }
    },
    {
      "cell_type": "code",
      "source": [
        "m_6 = folium.Map(location=[40.7, -74], zoom_start=11)\n",
        "\n",
        "coverage = gpd.GeoDataFrame(geometry=hospitals.geometry).buffer(10000)\n",
        "folium.GeoJson(coverage.geometry.to_crs(epsg=4326)).add_to(m_6)\n",
        "HeatMap(data=outside_range[['LATITUDE', 'LONGITUDE']], radius=9).add_to(m_6)\n",
        "folium.LatLngPopup().add_to(m_6)\n",
        "\n",
        "embed_map(m_6, 'm_6.html')"
      ],
      "metadata": {
        "id": "3xDZY0U9hg9z"
      },
      "execution_count": null,
      "outputs": []
    },
    {
      "cell_type": "code",
      "source": [
        "lat_1 = 40.6740\n",
        "long_1 = -73.7588\n",
        "\n",
        "# Your answer here: proposed location of hospital 2\n",
        "lat_2 = 40.6744\n",
        "long_2 = -73.8682\n",
        "\n",
        "\n",
        "# Do not modify the code below this line\n",
        "try:\n",
        "    new_df = pd.DataFrame(\n",
        "        {'Latitude': [lat_1, lat_2],\n",
        "         'Longitude': [long_1, long_2]})\n",
        "    new_gdf = gpd.GeoDataFrame(new_df, geometry=gpd.points_from_xy(new_df.Longitude, new_df.Latitude))\n",
        "    new_gdf.crs = {'init' :'epsg:4326'}\n",
        "    new_gdf = new_gdf.to_crs(epsg=2263)\n",
        "    # get new percentage\n",
        "    new_coverage = gpd.GeoDataFrame(geometry=new_gdf.geometry).buffer(10000)\n",
        "    new_my_union = new_coverage.geometry.unary_union\n",
        "    new_outside_range = outside_range.loc[~outside_range[\"geometry\"].apply(lambda x: new_my_union.contains(x))]\n",
        "    new_percentage = round(100*len(new_outside_range)/len(collisions), 2)\n",
        "    print(\"(NEW) Percentage of collisions more than 10 km away from the closest hospital: {}%\".format(new_percentage))\n",
        "    # Did you help the city to meet its goal?\n",
        "    q_6.check()\n",
        "    # make the map\n",
        "    m = folium.Map(location=[40.7, -74], zoom_start=11)\n",
        "    folium.GeoJson(coverage.geometry.to_crs(epsg=4326)).add_to(m)\n",
        "    folium.GeoJson(new_coverage.geometry.to_crs(epsg=4326)).add_to(m)\n",
        "    for idx, row in new_gdf.iterrows():\n",
        "        Marker([row['Latitude'], row['Longitude']]).add_to(m)\n",
        "    HeatMap(data=new_outside_range[['LATITUDE', 'LONGITUDE']], radius=9).add_to(m)\n",
        "    folium.LatLngPopup().add_to(m)\n",
        "    display(embed_map(m, 'q_6.html'))\n",
        "except:\n",
        "    q_6.hint()"
      ],
      "metadata": {
        "id": "xmJLlnBdhrRh"
      },
      "execution_count": null,
      "outputs": []
    }
  ]
}